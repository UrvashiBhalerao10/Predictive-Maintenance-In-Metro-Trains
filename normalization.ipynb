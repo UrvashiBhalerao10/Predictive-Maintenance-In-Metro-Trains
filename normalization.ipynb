{
  "nbformat": 4,
  "nbformat_minor": 0,
  "metadata": {
    "colab": {
      "provenance": []
    },
    "kernelspec": {
      "name": "python3",
      "display_name": "Python 3"
    },
    "language_info": {
      "name": "python"
    }
  },
  "cells": [
    {
      "cell_type": "code",
      "source": [
        "df = pd.read_csv('/content/ai4i2020.csv', names = headers)"
      ],
      "metadata": {
        "id": "Yu0epjE91Ugt"
      },
      "execution_count": 23,
      "outputs": []
    },
    {
      "cell_type": "code",
      "source": [
        "import numpy as np\n",
        "import pandas as pd\n",
        "from sklearn.preprocessing import MinMaxScaler\n"
      ],
      "metadata": {
        "id": "gKTunnTE45pK"
      },
      "execution_count": 17,
      "outputs": []
    },
    {
      "cell_type": "code",
      "source": [
        "# Example loading a CSV file into a DataFrame\n",
        "df = pd.read_csv('/content/ai4i2020.csv')\n"
      ],
      "metadata": {
        "id": "znf6i1gI3oS5"
      },
      "execution_count": 18,
      "outputs": []
    },
    {
      "cell_type": "code",
      "source": [
        "# Selecting numerical columns for normalization\n",
        "numerical_cols = ['TWF', 'HDF', 'PWF','OSF','RNF']\n"
      ],
      "metadata": {
        "id": "heCZu9OK5APt"
      },
      "execution_count": 19,
      "outputs": []
    },
    {
      "cell_type": "code",
      "source": [
        "scaler = MinMaxScaler()\n"
      ],
      "metadata": {
        "id": "ygrO0Bvm5jYS"
      },
      "execution_count": 20,
      "outputs": []
    },
    {
      "cell_type": "code",
      "source": [
        "df[numerical_cols] = scaler.fit_transform(df[numerical_cols])\n"
      ],
      "metadata": {
        "id": "famnZnW35kqw"
      },
      "execution_count": 21,
      "outputs": []
    },
    {
      "cell_type": "code",
      "source": [
        "print(df.describe())\n"
      ],
      "metadata": {
        "colab": {
          "base_uri": "https://localhost:8080/"
        },
        "id": "lMb92PHl5muK",
        "outputId": "3bd7d2ea-17bb-4bf2-8483-702a99afe8f6"
      },
      "execution_count": 22,
      "outputs": [
        {
          "output_type": "stream",
          "name": "stdout",
          "text": [
            "               UDI  Air temperature [K]  Process temperature [K]  \\\n",
            "count  10000.00000         10000.000000             10000.000000   \n",
            "mean    5000.50000           300.004930               310.005560   \n",
            "std     2886.89568             2.000259                 1.483734   \n",
            "min        1.00000           295.300000               305.700000   \n",
            "25%     2500.75000           298.300000               308.800000   \n",
            "50%     5000.50000           300.100000               310.100000   \n",
            "75%     7500.25000           301.500000               311.100000   \n",
            "max    10000.00000           304.500000               313.800000   \n",
            "\n",
            "       Rotational speed [rpm]   Torque [Nm]  Tool wear [min]  Machine failure  \\\n",
            "count            10000.000000  10000.000000     10000.000000     10000.000000   \n",
            "mean              1538.776100     39.986910       107.951000         0.033900   \n",
            "std                179.284096      9.968934        63.654147         0.180981   \n",
            "min               1168.000000      3.800000         0.000000         0.000000   \n",
            "25%               1423.000000     33.200000        53.000000         0.000000   \n",
            "50%               1503.000000     40.100000       108.000000         0.000000   \n",
            "75%               1612.000000     46.800000       162.000000         0.000000   \n",
            "max               2886.000000     76.600000       253.000000         1.000000   \n",
            "\n",
            "                TWF           HDF           PWF           OSF          RNF  \n",
            "count  10000.000000  10000.000000  10000.000000  10000.000000  10000.00000  \n",
            "mean       0.004600      0.011500      0.009500      0.009800      0.00190  \n",
            "std        0.067671      0.106625      0.097009      0.098514      0.04355  \n",
            "min        0.000000      0.000000      0.000000      0.000000      0.00000  \n",
            "25%        0.000000      0.000000      0.000000      0.000000      0.00000  \n",
            "50%        0.000000      0.000000      0.000000      0.000000      0.00000  \n",
            "75%        0.000000      0.000000      0.000000      0.000000      0.00000  \n",
            "max        1.000000      1.000000      1.000000      1.000000      1.00000  \n"
          ]
        }
      ]
    }
  ]
}